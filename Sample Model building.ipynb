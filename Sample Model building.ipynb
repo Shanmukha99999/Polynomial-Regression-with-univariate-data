{
 "cells": [
  {
   "cell_type": "markdown",
   "metadata": {},
   "source": [
    "# POLYNOMIAL REGRESSION (Univariate)"
   ]
  },
  {
   "cell_type": "code",
   "execution_count": 66,
   "metadata": {},
   "outputs": [],
   "source": [
    "import pandas as pd\n",
    "import numpy as np\n",
    "import matplotlib.pyplot as plt\n",
    "import seaborn as sns\n",
    "from sklearn.linear_model import LinearRegression\n",
    "from sklearn.model_selection import train_test_split\n",
    "from sklearn.metrics import mean_squared_error"
   ]
  },
  {
   "cell_type": "code",
   "execution_count": 5,
   "metadata": {},
   "outputs": [
    {
     "data": {
      "text/plain": [
       "array([0.  , 0.02, 0.04, 0.06, 0.08, 0.1 , 0.12, 0.14, 0.16, 0.18, 0.2 ,\n",
       "       0.22, 0.24, 0.26, 0.28, 0.3 , 0.32, 0.34, 0.36, 0.38, 0.4 , 0.42,\n",
       "       0.44, 0.46, 0.48, 0.5 , 0.52, 0.54, 0.56, 0.58, 0.6 , 0.62, 0.64,\n",
       "       0.66, 0.68, 0.7 , 0.72, 0.74, 0.76, 0.78, 0.8 , 0.82, 0.84, 0.86,\n",
       "       0.88, 0.9 , 0.92, 0.94, 0.96, 0.98, 1.  , 1.02, 1.04, 1.06, 1.08,\n",
       "       1.1 , 1.12, 1.14, 1.16, 1.18, 1.2 , 1.22, 1.24, 1.26, 1.28, 1.3 ,\n",
       "       1.32, 1.34, 1.36, 1.38, 1.4 , 1.42, 1.44, 1.46, 1.48, 1.5 , 1.52,\n",
       "       1.54, 1.56, 1.58, 1.6 , 1.62, 1.64, 1.66, 1.68, 1.7 , 1.72, 1.74,\n",
       "       1.76, 1.78, 1.8 , 1.82, 1.84, 1.86, 1.88, 1.9 , 1.92, 1.94, 1.96,\n",
       "       1.98, 2.  , 2.02, 2.04, 2.06, 2.08, 2.1 , 2.12, 2.14, 2.16, 2.18,\n",
       "       2.2 , 2.22, 2.24, 2.26, 2.28, 2.3 , 2.32, 2.34, 2.36, 2.38, 2.4 ,\n",
       "       2.42, 2.44, 2.46, 2.48, 2.5 , 2.52, 2.54, 2.56, 2.58, 2.6 , 2.62,\n",
       "       2.64, 2.66, 2.68, 2.7 , 2.72, 2.74, 2.76, 2.78, 2.8 , 2.82, 2.84,\n",
       "       2.86, 2.88, 2.9 , 2.92, 2.94, 2.96, 2.98, 3.  , 3.02, 3.04, 3.06,\n",
       "       3.08, 3.1 , 3.12, 3.14, 3.16, 3.18, 3.2 , 3.22, 3.24, 3.26, 3.28,\n",
       "       3.3 , 3.32, 3.34, 3.36, 3.38, 3.4 , 3.42, 3.44, 3.46, 3.48, 3.5 ,\n",
       "       3.52, 3.54, 3.56, 3.58, 3.6 , 3.62, 3.64, 3.66, 3.68, 3.7 , 3.72,\n",
       "       3.74, 3.76, 3.78, 3.8 , 3.82, 3.84, 3.86, 3.88, 3.9 , 3.92, 3.94,\n",
       "       3.96, 3.98, 4.  , 4.02, 4.04, 4.06, 4.08, 4.1 , 4.12, 4.14, 4.16,\n",
       "       4.18, 4.2 , 4.22, 4.24, 4.26, 4.28, 4.3 , 4.32, 4.34, 4.36, 4.38,\n",
       "       4.4 , 4.42, 4.44, 4.46, 4.48, 4.5 , 4.52, 4.54, 4.56, 4.58, 4.6 ,\n",
       "       4.62, 4.64, 4.66, 4.68, 4.7 , 4.72, 4.74, 4.76, 4.78, 4.8 , 4.82,\n",
       "       4.84, 4.86, 4.88, 4.9 , 4.92, 4.94, 4.96, 4.98, 5.  , 5.02, 5.04,\n",
       "       5.06, 5.08, 5.1 , 5.12, 5.14, 5.16, 5.18, 5.2 , 5.22, 5.24, 5.26,\n",
       "       5.28, 5.3 , 5.32, 5.34, 5.36, 5.38, 5.4 , 5.42, 5.44, 5.46, 5.48,\n",
       "       5.5 , 5.52, 5.54, 5.56, 5.58, 5.6 , 5.62, 5.64, 5.66, 5.68, 5.7 ,\n",
       "       5.72, 5.74, 5.76, 5.78, 5.8 , 5.82, 5.84, 5.86, 5.88, 5.9 , 5.92,\n",
       "       5.94, 5.96, 5.98])"
      ]
     },
     "execution_count": 5,
     "metadata": {},
     "output_type": "execute_result"
    }
   ],
   "source": [
    "x=np.arange(0.0,6.0,0.02)\n",
    "x"
   ]
  },
  {
   "cell_type": "code",
   "execution_count": 17,
   "metadata": {},
   "outputs": [],
   "source": [
    "y=[]\n",
    "for i in x:\n",
    "    y.append(i.round(2))"
   ]
  },
  {
   "cell_type": "code",
   "execution_count": 18,
   "metadata": {},
   "outputs": [
    {
     "name": "stdout",
     "output_type": "stream",
     "text": [
      "0.0\n",
      "0.02\n",
      "0.04\n",
      "0.06\n",
      "0.08\n",
      "0.1\n",
      "0.12\n",
      "0.14\n",
      "0.16\n",
      "0.18\n",
      "0.2\n",
      "0.22\n",
      "0.24\n",
      "0.26\n",
      "0.28\n",
      "0.3\n",
      "0.32\n",
      "0.34\n",
      "0.36\n",
      "0.38\n",
      "0.4\n",
      "0.42\n",
      "0.44\n",
      "0.46\n",
      "0.48\n",
      "0.5\n",
      "0.52\n",
      "0.54\n",
      "0.56\n",
      "0.58\n",
      "0.6\n",
      "0.62\n",
      "0.64\n",
      "0.66\n",
      "0.68\n",
      "0.7\n",
      "0.72\n",
      "0.74\n",
      "0.76\n",
      "0.78\n",
      "0.8\n",
      "0.82\n",
      "0.84\n",
      "0.86\n",
      "0.88\n",
      "0.9\n",
      "0.92\n",
      "0.94\n",
      "0.96\n",
      "0.98\n",
      "1.0\n",
      "1.02\n",
      "1.04\n",
      "1.06\n",
      "1.08\n",
      "1.1\n",
      "1.12\n",
      "1.14\n",
      "1.16\n",
      "1.18\n",
      "1.2\n",
      "1.22\n",
      "1.24\n",
      "1.26\n",
      "1.28\n",
      "1.3\n",
      "1.32\n",
      "1.34\n",
      "1.36\n",
      "1.38\n",
      "1.4\n",
      "1.42\n",
      "1.44\n",
      "1.46\n",
      "1.48\n",
      "1.5\n",
      "1.52\n",
      "1.54\n",
      "1.56\n",
      "1.58\n",
      "1.6\n",
      "1.62\n",
      "1.64\n",
      "1.66\n",
      "1.68\n",
      "1.7\n",
      "1.72\n",
      "1.74\n",
      "1.76\n",
      "1.78\n",
      "1.8\n",
      "1.82\n",
      "1.84\n",
      "1.86\n",
      "1.88\n",
      "1.9\n",
      "1.92\n",
      "1.94\n",
      "1.96\n",
      "1.98\n",
      "2.0\n",
      "2.02\n",
      "2.04\n",
      "2.06\n",
      "2.08\n",
      "2.1\n",
      "2.12\n",
      "2.14\n",
      "2.16\n",
      "2.18\n",
      "2.2\n",
      "2.22\n",
      "2.24\n",
      "2.26\n",
      "2.28\n",
      "2.3\n",
      "2.32\n",
      "2.34\n",
      "2.36\n",
      "2.38\n",
      "2.4\n",
      "2.42\n",
      "2.44\n",
      "2.46\n",
      "2.48\n",
      "2.5\n",
      "2.52\n",
      "2.54\n",
      "2.56\n",
      "2.58\n",
      "2.6\n",
      "2.62\n",
      "2.64\n",
      "2.66\n",
      "2.68\n",
      "2.7\n",
      "2.72\n",
      "2.74\n",
      "2.76\n",
      "2.78\n",
      "2.8\n",
      "2.82\n",
      "2.84\n",
      "2.86\n",
      "2.88\n",
      "2.9\n",
      "2.92\n",
      "2.94\n",
      "2.96\n",
      "2.98\n",
      "3.0\n",
      "3.02\n",
      "3.04\n",
      "3.06\n",
      "3.08\n",
      "3.1\n",
      "3.12\n",
      "3.14\n",
      "3.16\n",
      "3.18\n",
      "3.2\n",
      "3.22\n",
      "3.24\n",
      "3.26\n",
      "3.28\n",
      "3.3\n",
      "3.32\n",
      "3.34\n",
      "3.36\n",
      "3.38\n",
      "3.4\n",
      "3.42\n",
      "3.44\n",
      "3.46\n",
      "3.48\n",
      "3.5\n",
      "3.52\n",
      "3.54\n",
      "3.56\n",
      "3.58\n",
      "3.6\n",
      "3.62\n",
      "3.64\n",
      "3.66\n",
      "3.68\n",
      "3.7\n",
      "3.72\n",
      "3.74\n",
      "3.76\n",
      "3.78\n",
      "3.8\n",
      "3.82\n",
      "3.84\n",
      "3.86\n",
      "3.88\n",
      "3.9\n",
      "3.92\n",
      "3.94\n",
      "3.96\n",
      "3.98\n",
      "4.0\n",
      "4.02\n",
      "4.04\n",
      "4.06\n",
      "4.08\n",
      "4.1\n",
      "4.12\n",
      "4.14\n",
      "4.16\n",
      "4.18\n",
      "4.2\n",
      "4.22\n",
      "4.24\n",
      "4.26\n",
      "4.28\n",
      "4.3\n",
      "4.32\n",
      "4.34\n",
      "4.36\n",
      "4.38\n",
      "4.4\n",
      "4.42\n",
      "4.44\n",
      "4.46\n",
      "4.48\n",
      "4.5\n",
      "4.52\n",
      "4.54\n",
      "4.56\n",
      "4.58\n",
      "4.6\n",
      "4.62\n",
      "4.64\n",
      "4.66\n",
      "4.68\n",
      "4.7\n",
      "4.72\n",
      "4.74\n",
      "4.76\n",
      "4.78\n",
      "4.8\n",
      "4.82\n",
      "4.84\n",
      "4.86\n",
      "4.88\n",
      "4.9\n",
      "4.92\n",
      "4.94\n",
      "4.96\n",
      "4.98\n",
      "5.0\n",
      "5.02\n",
      "5.04\n",
      "5.06\n",
      "5.08\n",
      "5.1\n",
      "5.12\n",
      "5.14\n",
      "5.16\n",
      "5.18\n",
      "5.2\n",
      "5.22\n",
      "5.24\n",
      "5.26\n",
      "5.28\n",
      "5.3\n",
      "5.32\n",
      "5.34\n",
      "5.36\n",
      "5.38\n",
      "5.4\n",
      "5.42\n",
      "5.44\n",
      "5.46\n",
      "5.48\n",
      "5.5\n",
      "5.52\n",
      "5.54\n",
      "5.56\n",
      "5.58\n",
      "5.6\n",
      "5.62\n",
      "5.64\n",
      "5.66\n",
      "5.68\n",
      "5.7\n",
      "5.72\n",
      "5.74\n",
      "5.76\n",
      "5.78\n",
      "5.8\n",
      "5.82\n",
      "5.84\n",
      "5.86\n",
      "5.88\n",
      "5.9\n",
      "5.92\n",
      "5.94\n",
      "5.96\n",
      "5.98\n"
     ]
    }
   ],
   "source": [
    "for i in y:\n",
    "    print(i)"
   ]
  },
  {
   "cell_type": "code",
   "execution_count": 19,
   "metadata": {},
   "outputs": [],
   "source": [
    "y1=[]\n",
    "for i in y:\n",
    "    y1.append(np.tanh(i))"
   ]
  },
  {
   "cell_type": "code",
   "execution_count": 20,
   "metadata": {},
   "outputs": [
    {
     "data": {
      "text/plain": [
       "[0.0,\n",
       " 0.019997333759930933,\n",
       " 0.03997868031116357,\n",
       " 0.059928103529143496,\n",
       " 0.07982976911113136,\n",
       " 0.09966799462495582,\n",
       " 0.11942729853438588,\n",
       " 0.13909244787845804,\n",
       " 0.1586485042974989,\n",
       " 0.1780808681173302,\n",
       " 0.197375320224904,\n",
       " 0.21651806149302882,\n",
       " 0.23549574953849794,\n",
       " 0.25429553262639115,\n",
       " 0.27290508056313273,\n",
       " 0.2913126124515909,\n",
       " 0.30950692121263845,\n",
       " 0.32747739480870536,\n",
       " 0.3452140341355209,\n",
       " 0.3627074675780511,\n",
       " 0.3799489622552249,\n",
       " 0.39693043200507755,\n",
       " 0.41364444218713514,\n",
       " 0.4300842114019795,\n",
       " 0.4462436102487796,\n",
       " 0.46211715726000974,\n",
       " 0.477700012168498,\n",
       " 0.49298796667532435,\n",
       " 0.5079774328978962,\n",
       " 0.5226654296858209,\n",
       " 0.5370495669980353,\n",
       " 0.5511280285381469,\n",
       " 0.5648995528462251,\n",
       " 0.5783634130445058,\n",
       " 0.5915193954318165,\n",
       " 0.6043677771171635,\n",
       " 0.616909302877065,\n",
       " 0.6291451614140354,\n",
       " 0.6410769611853464,\n",
       " 0.65270670596199,\n",
       " 0.6640367702678489,\n",
       " 0.6750698748386078,\n",
       " 0.6858090622290945,\n",
       " 0.6962576726866815,\n",
       " 0.7064193203972353,\n",
       " 0.7162978701990244,\n",
       " 0.7258974148490807,\n",
       " 0.7352222529158692,\n",
       " 0.7442768673618373,\n",
       " 0.753065904869552,\n",
       " 0.7615941559557649,\n",
       " 0.7698665359089004,\n",
       " 0.7778880665771849,\n",
       " 0.7856638590269437,\n",
       " 0.7931990970835009,\n",
       " 0.8004990217606297,\n",
       " 0.8075689165786144,\n",
       " 0.814414093765686,\n",
       " 0.8210398813328771,\n",
       " 0.8274516110081667,\n",
       " 0.8336546070121552,\n",
       " 0.8396541756543754,\n",
       " 0.8454555957266803,\n",
       " 0.8510641096679439,\n",
       " 0.8564849154724974,\n",
       " 0.8617231593133063,\n",
       " 0.8667839288498187,\n",
       " 0.8716722471896521,\n",
       " 0.8763930674728229,\n",
       " 0.880951268046997,\n",
       " 0.8853516482022625,\n",
       " 0.8895989244341314,\n",
       " 0.8936977272038725,\n",
       " 0.8976525981658167,\n",
       " 0.9014679878319467,\n",
       " 0.9051482536448664,\n",
       " 0.9086976584311126,\n",
       " 0.9121203692077173,\n",
       " 0.9154204563159324,\n",
       " 0.9186018928570671,\n",
       " 0.9216685544064713,\n",
       " 0.9246242189827881,\n",
       " 0.9274725672507033,\n",
       " 0.9302171829365263,\n",
       " 0.9328615534370349,\n",
       " 0.935409070603099,\n",
       " 0.9378630316806652,\n",
       " 0.9402266403927275,\n",
       " 0.94250300814692,\n",
       " 0.9446951553543538,\n",
       " 0.9468060128462683,\n",
       " 0.9488384233759847,\n",
       " 0.9507951431945212,\n",
       " 0.9526788436890776,\n",
       " 0.954492113074392,\n",
       " 0.9562374581277391,\n",
       " 0.9579173059590634,\n",
       " 0.9595340058084292,\n",
       " 0.9610898308636139,\n",
       " 0.9625869800912908,\n",
       " 0.9640275800758169,\n",
       " 0.9654136868601891,\n",
       " 0.9667472877842368,\n",
       " 0.9680303033155948,\n",
       " 0.9692645888694489,\n",
       " 0.9704519366134539,\n",
       " 0.9715940772546178,\n",
       " 0.9726926818052982,\n",
       " 0.9737493633257944,\n",
       " 0.9747656786413226,\n",
       " 0.9757431300314515,\n",
       " 0.9766831668903339,\n",
       " 0.9775871873563142,\n",
       " 0.9784565399097167,\n",
       " 0.9792925249378165,\n",
       " 0.9800963962661914,\n",
       " 0.9808693626558167,\n",
       " 0.9816125892654238,\n",
       " 0.9823271990787845,\n",
       " 0.9830142742967113,\n",
       " 0.9836748576936802,\n",
       " 0.9843099539390887,\n",
       " 0.9849205308832533,\n",
       " 0.9855075208083371,\n",
       " 0.9860718216444758,\n",
       " 0.9866142981514303,\n",
       " 0.9871357830661627,\n",
       " 0.9876370782167777,\n",
       " 0.9881189556033193,\n",
       " 0.9885821584459533,\n",
       " 0.9890274022010992,\n",
       " 0.9894553755461026,\n",
       " 0.9898667413330675,\n",
       " 0.9902621375124827,\n",
       " 0.9906421780272986,\n",
       " 0.9910074536781176,\n",
       " 0.9913585329601762,\n",
       " 0.9916959628727987,\n",
       " 0.9920202697020117,\n",
       " 0.9923319597770051,\n",
       " 0.992631520201128,\n",
       " 0.992919419558107,\n",
       " 0.9931961085941655,\n",
       " 0.9934620208767228,\n",
       " 0.9937175734303412,\n",
       " 0.9939631673505831,\n",
       " 0.9941991883964316,\n",
       " 0.9944260075619155,\n",
       " 0.9946439816275737,\n",
       " 0.9948534536923792,\n",
       " 0.9950547536867305,\n",
       " 0.99524819886711,\n",
       " 0.9954340942929939,\n",
       " 0.9956127332865825,\n",
       " 0.9957843978759136,\n",
       " 0.9959493592219002,\n",
       " 0.9961078780298289,\n",
       " 0.9962602049458319,\n",
       " 0.9964065809388432,\n",
       " 0.9965472376685257,\n",
       " 0.9966823978396512,\n",
       " 0.996812275543394,\n",
       " 0.9969370765859934,\n",
       " 0.9970569988052209,\n",
       " 0.9971722323750787,\n",
       " 0.9972829600991421,\n",
       " 0.9973893576929465,\n",
       " 0.9974915940558062,\n",
       " 0.9975898315324421,\n",
       " 0.9976842261647808,\n",
       " 0.9977749279342794,\n",
       " 0.9978620809951161,\n",
       " 0.997945823898577,\n",
       " 0.9980262898089581,\n",
       " 0.9981036067112925,\n",
       " 0.9981778976111987,\n",
       " 0.9982492807271415,\n",
       " 0.9983178696753823,\n",
       " 0.9983837736478877,\n",
       " 0.9984470975834583,\n",
       " 0.9985079423323266,\n",
       " 0.9985664048144672,\n",
       " 0.9986225781718535,\n",
       " 0.9986765519148859,\n",
       " 0.9987284120632095,\n",
       " 0.9987782412811312,\n",
       " 0.9988261190078384,\n",
       " 0.9988721215826155,\n",
       " 0.9989163223652454,\n",
       " 0.9989587918517782,\n",
       " 0.9989995977858409,\n",
       " 0.9990388052656595,\n",
       " 0.9990764768469519,\n",
       " 0.9991126726418513,\n",
       " 0.99914745041401,\n",
       " 0.999180865670028,\n",
       " 0.999212971747347,\n",
       " 0.9992438198987459,\n",
       " 0.9992734593735638,\n",
       " 0.9993019374957799,\n",
       " 0.999329299739067,\n",
       " 0.9993555897989373,\n",
       " 0.999380849662089,\n",
       " 0.9994051196730637,\n",
       " 0.9994284385983162,\n",
       " 0.9994508436877974,\n",
       " 0.9994723707341434,\n",
       " 0.9994930541295671,\n",
       " 0.9995129269205365,\n",
       " 0.9995320208603277,\n",
       " 0.9995503664595334,\n",
       " 0.9995679930346069,\n",
       " 0.9995849287545152,\n",
       " 0.9996012006855779,\n",
       " 0.9996168348345574,\n",
       " 0.9996318561900731,\n",
       " 0.9996462887624,\n",
       " 0.9996601556217168,\n",
       " 0.9996734789348639,\n",
       " 0.9996862800006663,\n",
       " 0.9996985792838805,\n",
       " 0.9997103964478165,\n",
       " 0.9997217503856869,\n",
       " 0.9997326592507327,\n",
       " 0.9997431404851737,\n",
       " 0.9997532108480275,\n",
       " 0.9997628864418443,\n",
       " 0.9997721827383951,\n",
       " 0.999781114603359,\n",
       " 0.9997896963200444,\n",
       " 0.9997979416121845,\n",
       " 0.9998058636658408,\n",
       " 0.9998134751504524,\n",
       " 0.9998207882390607,\n",
       " 0.9998278146277448,\n",
       " 0.9998345655542966,\n",
       " 0.9998410518161654,\n",
       " 0.9998472837877015,\n",
       " 0.9998532714367244,\n",
       " 0.9998590243404446,\n",
       " 0.9998645517007605,\n",
       " 0.9998698623589588,\n",
       " 0.9998749648098385,\n",
       " 0.9998798672152829,\n",
       " 0.9998845774173003,\n",
       " 0.9998891029505544,\n",
       " 0.9998934510544042,\n",
       " 0.9998976286844731,\n",
       " 0.9999016425237643,\n",
       " 0.9999054989933424,\n",
       " 0.9999092042625951,\n",
       " 0.9999127642590951,\n",
       " 0.9999161846780742,\n",
       " 0.9999194709915274,\n",
       " 0.9999226284569604,\n",
       " 0.9999256621257943,\n",
       " 0.9999285768514409,\n",
       " 0.999931377297063,\n",
       " 0.9999340679430292,\n",
       " 0.9999366530940776,\n",
       " 0.9999391368861988,\n",
       " 0.9999415232932493,\n",
       " 0.9999438161333054,\n",
       " 0.9999460190747691,\n",
       " 0.9999481356422338,\n",
       " 0.9999501692221211,\n",
       " 0.999952123068096,\n",
       " 0.9999540003062705,\n",
       " 0.9999558039402028,\n",
       " 0.9999575368557014,\n",
       " 0.9999592018254402,\n",
       " 0.999960801513393,\n",
       " 0.9999623384790944,\n",
       " 0.9999638151817338,\n",
       " 0.9999652339840888,\n",
       " 0.9999665971563038,\n",
       " 0.9999679068795222,\n",
       " 0.9999691652493744,\n",
       " 0.9999703742793306,\n",
       " 0.999971535903921,\n",
       " 0.9999726519818308,\n",
       " 0.9999737242988732,\n",
       " 0.9999747545708461,\n",
       " 0.9999757444462769,\n",
       " 0.9999766955090599,\n",
       " 0.9999776092809898,\n",
       " 0.9999784872241964,\n",
       " 0.9999793307434834,\n",
       " 0.9999801411885765,\n",
       " 0.9999809198562816,\n",
       " 0.9999816679925603,\n",
       " 0.9999823867945232,\n",
       " 0.9999830774123447,\n",
       " 0.9999837409511033,\n",
       " 0.9999843784725498,\n",
       " 0.9999849909968058,\n",
       " 0.9999855795039955,\n",
       " 0.9999861449358144,\n",
       " 0.9999866881970358,\n",
       " 0.999987210156958]"
      ]
     },
     "execution_count": 20,
     "metadata": {},
     "output_type": "execute_result"
    }
   ],
   "source": [
    "y1"
   ]
  },
  {
   "cell_type": "code",
   "execution_count": 22,
   "metadata": {},
   "outputs": [
    {
     "data": {
      "text/html": [
       "<div>\n",
       "<style scoped>\n",
       "    .dataframe tbody tr th:only-of-type {\n",
       "        vertical-align: middle;\n",
       "    }\n",
       "\n",
       "    .dataframe tbody tr th {\n",
       "        vertical-align: top;\n",
       "    }\n",
       "\n",
       "    .dataframe thead th {\n",
       "        text-align: right;\n",
       "    }\n",
       "</style>\n",
       "<table border=\"1\" class=\"dataframe\">\n",
       "  <thead>\n",
       "    <tr style=\"text-align: right;\">\n",
       "      <th></th>\n",
       "      <th>Hours</th>\n",
       "      <th>Income</th>\n",
       "    </tr>\n",
       "  </thead>\n",
       "  <tbody>\n",
       "    <tr>\n",
       "      <th>0</th>\n",
       "      <td>0.00</td>\n",
       "      <td>0.000000</td>\n",
       "    </tr>\n",
       "    <tr>\n",
       "      <th>1</th>\n",
       "      <td>0.02</td>\n",
       "      <td>0.019997</td>\n",
       "    </tr>\n",
       "    <tr>\n",
       "      <th>2</th>\n",
       "      <td>0.04</td>\n",
       "      <td>0.039979</td>\n",
       "    </tr>\n",
       "    <tr>\n",
       "      <th>3</th>\n",
       "      <td>0.06</td>\n",
       "      <td>0.059928</td>\n",
       "    </tr>\n",
       "    <tr>\n",
       "      <th>4</th>\n",
       "      <td>0.08</td>\n",
       "      <td>0.079830</td>\n",
       "    </tr>\n",
       "    <tr>\n",
       "      <th>...</th>\n",
       "      <td>...</td>\n",
       "      <td>...</td>\n",
       "    </tr>\n",
       "    <tr>\n",
       "      <th>295</th>\n",
       "      <td>5.90</td>\n",
       "      <td>0.999985</td>\n",
       "    </tr>\n",
       "    <tr>\n",
       "      <th>296</th>\n",
       "      <td>5.92</td>\n",
       "      <td>0.999986</td>\n",
       "    </tr>\n",
       "    <tr>\n",
       "      <th>297</th>\n",
       "      <td>5.94</td>\n",
       "      <td>0.999986</td>\n",
       "    </tr>\n",
       "    <tr>\n",
       "      <th>298</th>\n",
       "      <td>5.96</td>\n",
       "      <td>0.999987</td>\n",
       "    </tr>\n",
       "    <tr>\n",
       "      <th>299</th>\n",
       "      <td>5.98</td>\n",
       "      <td>0.999987</td>\n",
       "    </tr>\n",
       "  </tbody>\n",
       "</table>\n",
       "<p>300 rows × 2 columns</p>\n",
       "</div>"
      ],
      "text/plain": [
       "     Hours    Income\n",
       "0     0.00  0.000000\n",
       "1     0.02  0.019997\n",
       "2     0.04  0.039979\n",
       "3     0.06  0.059928\n",
       "4     0.08  0.079830\n",
       "..     ...       ...\n",
       "295   5.90  0.999985\n",
       "296   5.92  0.999986\n",
       "297   5.94  0.999986\n",
       "298   5.96  0.999987\n",
       "299   5.98  0.999987\n",
       "\n",
       "[300 rows x 2 columns]"
      ]
     },
     "execution_count": 22,
     "metadata": {},
     "output_type": "execute_result"
    }
   ],
   "source": [
    "df=pd.DataFrame({'Hours':y,'Income':y1})\n",
    "df"
   ]
  },
  {
   "cell_type": "code",
   "execution_count": 25,
   "metadata": {},
   "outputs": [
    {
     "data": {
      "text/plain": [
       "0      0.00\n",
       "1      0.02\n",
       "2      0.04\n",
       "3      0.06\n",
       "4      0.08\n",
       "       ... \n",
       "295    5.90\n",
       "296    5.92\n",
       "297    5.94\n",
       "298    5.96\n",
       "299    5.98\n",
       "Name: Hours, Length: 300, dtype: float64"
      ]
     },
     "execution_count": 25,
     "metadata": {},
     "output_type": "execute_result"
    }
   ],
   "source": [
    "x=df['Hours']\n",
    "x"
   ]
  },
  {
   "cell_type": "code",
   "execution_count": 26,
   "metadata": {},
   "outputs": [
    {
     "data": {
      "text/plain": [
       "0      0.000000\n",
       "1      0.019997\n",
       "2      0.039979\n",
       "3      0.059928\n",
       "4      0.079830\n",
       "         ...   \n",
       "295    0.999985\n",
       "296    0.999986\n",
       "297    0.999986\n",
       "298    0.999987\n",
       "299    0.999987\n",
       "Name: Income, Length: 300, dtype: float64"
      ]
     },
     "execution_count": 26,
     "metadata": {},
     "output_type": "execute_result"
    }
   ],
   "source": [
    "y=df['Income']\n",
    "y"
   ]
  },
  {
   "cell_type": "code",
   "execution_count": 31,
   "metadata": {},
   "outputs": [
    {
     "data": {
      "text/plain": [
       "(158    3.16\n",
       " 150    3.00\n",
       " 102    2.04\n",
       " 163    3.26\n",
       " 112    2.24\n",
       "        ... \n",
       " 203    4.06\n",
       " 255    5.10\n",
       " 72     1.44\n",
       " 235    4.70\n",
       " 37     0.74\n",
       " Name: Hours, Length: 240, dtype: float64,\n",
       " 189    3.78\n",
       " 123    2.46\n",
       " 185    3.70\n",
       " 213    4.26\n",
       " 106    2.12\n",
       " 127    2.54\n",
       " 176    3.52\n",
       " 73     1.46\n",
       " 275    5.50\n",
       " 242    4.84\n",
       " 266    5.32\n",
       " 147    2.94\n",
       " 299    5.98\n",
       " 58     1.16\n",
       " 122    2.44\n",
       " 78     1.56\n",
       " 11     0.22\n",
       " 167    3.34\n",
       " 220    4.40\n",
       " 29     0.58\n",
       " 27     0.54\n",
       " 110    2.20\n",
       " 251    5.02\n",
       " 12     0.24\n",
       " 105    2.10\n",
       " 18     0.36\n",
       " 297    5.94\n",
       " 90     1.80\n",
       " 293    5.86\n",
       " 184    3.68\n",
       " 139    2.78\n",
       " 248    4.96\n",
       " 229    4.58\n",
       " 59     1.18\n",
       " 51     1.02\n",
       " 88     1.76\n",
       " 95     1.90\n",
       " 164    3.28\n",
       " 80     1.60\n",
       " 217    4.34\n",
       " 221    4.42\n",
       " 228    4.56\n",
       " 191    3.82\n",
       " 4      0.08\n",
       " 70     1.40\n",
       " 222    4.44\n",
       " 249    4.98\n",
       " 161    3.22\n",
       " 16     0.32\n",
       " 208    4.16\n",
       " 0      0.00\n",
       " 284    5.68\n",
       " 285    5.70\n",
       " 175    3.50\n",
       " 288    5.76\n",
       " 119    2.38\n",
       " 62     1.24\n",
       " 180    3.60\n",
       " 214    4.28\n",
       " 193    3.86\n",
       " Name: Hours, dtype: float64,\n",
       " 158    0.996407\n",
       " 150    0.995055\n",
       " 102    0.966747\n",
       " 163    0.997057\n",
       " 112    0.977587\n",
       "          ...   \n",
       " 203    0.999405\n",
       " 255    0.999926\n",
       " 72     0.893698\n",
       " 235    0.999835\n",
       " 37     0.629145\n",
       " Name: Income, Length: 240, dtype: float64,\n",
       " 189    0.998959\n",
       " 123    0.985508\n",
       " 185    0.998778\n",
       " 213    0.999601\n",
       " 106    0.971594\n",
       " 127    0.987637\n",
       " 176    0.998249\n",
       " 73     0.897653\n",
       " 275    0.999967\n",
       " 242    0.999875\n",
       " 266    0.999952\n",
       " 147    0.994426\n",
       " 299    0.999987\n",
       " 58     0.821040\n",
       " 122    0.984921\n",
       " 78     0.915420\n",
       " 11     0.216518\n",
       " 167    0.997492\n",
       " 220    0.999699\n",
       " 29     0.522665\n",
       " 27     0.492988\n",
       " 110    0.975743\n",
       " 251    0.999913\n",
       " 12     0.235496\n",
       " 105    0.970452\n",
       " 18     0.345214\n",
       " 297    0.999986\n",
       " 90     0.946806\n",
       " 293    0.999984\n",
       " 184    0.998728\n",
       " 139    0.992332\n",
       " 248    0.999902\n",
       " 229    0.999790\n",
       " 59     0.827452\n",
       " 51     0.769867\n",
       " 88     0.942503\n",
       " 95     0.956237\n",
       " 164    0.997172\n",
       " 80     0.921669\n",
       " 217    0.999660\n",
       " 221    0.999710\n",
       " 228    0.999781\n",
       " 191    0.999039\n",
       " 4      0.079830\n",
       " 70     0.885352\n",
       " 222    0.999722\n",
       " 249    0.999905\n",
       " 161    0.996812\n",
       " 16     0.309507\n",
       " 208    0.999513\n",
       " 0      0.000000\n",
       " 284    0.999977\n",
       " 285    0.999978\n",
       " 175    0.998178\n",
       " 288    0.999980\n",
       " 119    0.983014\n",
       " 62     0.845456\n",
       " 180    0.998508\n",
       " 214    0.999617\n",
       " 193    0.999113\n",
       " Name: Income, dtype: float64)"
      ]
     },
     "execution_count": 31,
     "metadata": {},
     "output_type": "execute_result"
    }
   ],
   "source": [
    "x_train,x_test,y_train,y_test=train_test_split(x,y,test_size=0.2,random_state=True)\n",
    "x_train,x_test,y_train,y_test"
   ]
  },
  {
   "cell_type": "code",
   "execution_count": 33,
   "metadata": {},
   "outputs": [
    {
     "data": {
      "text/plain": [
       "<matplotlib.collections.PathCollection at 0x2acbe64d610>"
      ]
     },
     "execution_count": 33,
     "metadata": {},
     "output_type": "execute_result"
    },
    {
     "data": {
      "image/png": "[encoded data removed]",
      "text/plain": [
       "<Figure size 432x288 with 1 Axes>"
      ]
     },
     "metadata": {
      "needs_background": "light"
     },
     "output_type": "display_data"
    }
   ],
   "source": [
    "plt.scatter(x_train,y_train)"
   ]
  },
  {
   "cell_type": "code",
   "execution_count": 44,
   "metadata": {},
   "outputs": [
    {
     "data": {
      "text/plain": [
       "(240, 1)"
      ]
     },
     "execution_count": 44,
     "metadata": {},
     "output_type": "execute_result"
    }
   ],
   "source": [
    "x_train=np.array(x_train).reshape(-1,1)\n",
    "x_train.shape"
   ]
  },
  {
   "cell_type": "code",
   "execution_count": 40,
   "metadata": {},
   "outputs": [],
   "source": [
    "y_train=np.array(y_train).reshape(-1,1)"
   ]
  },
  {
   "cell_type": "code",
   "execution_count": 42,
   "metadata": {},
   "outputs": [
    {
     "data": {
      "text/plain": [
       "(240, 1)"
      ]
     },
     "execution_count": 42,
     "metadata": {},
     "output_type": "execute_result"
    }
   ],
   "source": [
    "y_train.shape"
   ]
  },
  {
   "cell_type": "code",
   "execution_count": 45,
   "metadata": {},
   "outputs": [
    {
     "data": {
      "text/plain": [
       "LinearRegression()"
      ]
     },
     "execution_count": 45,
     "metadata": {},
     "output_type": "execute_result"
    }
   ],
   "source": [
    "model1.fit(x_train,y_train)"
   ]
  },
  {
   "cell_type": "code",
   "execution_count": 48,
   "metadata": {},
   "outputs": [
    {
     "data": {
      "text/plain": [
       "0.5080053536718079"
      ]
     },
     "execution_count": 48,
     "metadata": {},
     "output_type": "execute_result"
    }
   ],
   "source": [
    "model1.score(x_train,y_train)"
   ]
  },
  {
   "cell_type": "code",
   "execution_count": 50,
   "metadata": {},
   "outputs": [],
   "source": [
    "x_test=np.array(x_test).reshape(-1,1)\n",
    "y_pred=model1.predict(x_test)"
   ]
  },
  {
   "cell_type": "code",
   "execution_count": 62,
   "metadata": {},
   "outputs": [
    {
     "data": {
      "text/plain": [
       "0.09217913905842817"
      ]
     },
     "execution_count": 62,
     "metadata": {},
     "output_type": "execute_result"
    }
   ],
   "source": [
    "m=model1.coef_[0][0]\n",
    "m"
   ]
  },
  {
   "cell_type": "code",
   "execution_count": 63,
   "metadata": {},
   "outputs": [
    {
     "data": {
      "text/plain": [
       "0.6100982334161313"
      ]
     },
     "execution_count": 63,
     "metadata": {},
     "output_type": "execute_result"
    }
   ],
   "source": [
    "c=model1.intercept_[0]\n",
    "c"
   ]
  },
  {
   "cell_type": "code",
   "execution_count": 65,
   "metadata": {},
   "outputs": [
    {
     "data": {
      "image/png": "[encoded data removed]",
      "text/plain": [
       "<Figure size 432x288 with 1 Axes>"
      ]
     },
     "metadata": {
      "needs_background": "light"
     },
     "output_type": "display_data"
    }
   ],
   "source": [
    "z=[]\n",
    "for i in x_train:\n",
    "    z.append(m*i+c)\n",
    "plt.scatter(x_train,y_train)\n",
    "plt.plot(x_train,z,color='r')\n",
    "plt.show()"
   ]
  },
  {
   "cell_type": "markdown",
   "metadata": {},
   "source": [
    "here in the above best fit line was unable to predict the pattern and unable to predict the correct output \n",
    "so here we are going to implement polynomial regression where we can predict the correct pattern"
   ]
  },
  {
   "cell_type": "markdown",
   "metadata": {},
   "source": [
    "And also the model's score is very low i.e around 0.52003 "
   ]
  },
  {
   "cell_type": "code",
   "execution_count": 67,
   "metadata": {},
   "outputs": [
    {
     "data": {
      "text/plain": [
       "0.03129775922539999"
      ]
     },
     "execution_count": 67,
     "metadata": {},
     "output_type": "execute_result"
    }
   ],
   "source": [
    "mean_squared_error(y_test,y_pred)"
   ]
  },
  {
   "cell_type": "markdown",
   "metadata": {},
   "source": [
    "Now lets implement the polynomial regression and check the score and correctness of the model"
   ]
  },
  {
   "cell_type": "code",
   "execution_count": 69,
   "metadata": {},
   "outputs": [
    {
     "data": {
      "text/plain": [
       "LinearRegression()"
      ]
     },
     "execution_count": 69,
     "metadata": {},
     "output_type": "execute_result"
    }
   ],
   "source": [
    "from sklearn.preprocessing import PolynomialFeatures\n",
    "poly_model = PolynomialFeatures(degree = 3)\n",
    "x_poly = poly_model.fit_transform(x_train)\n",
    "model_2 = LinearRegression()\n",
    "model_2.fit(x_poly, y_train)"
   ]
  },
  {
   "cell_type": "code",
   "execution_count": 72,
   "metadata": {},
   "outputs": [
    {
     "data": {
      "text/plain": [
       "0.9757179321153034"
      ]
     },
     "execution_count": 72,
     "metadata": {},
     "output_type": "execute_result"
    }
   ],
   "source": [
    "model_2.score(x_poly,y_train)  # compare the score with the simple linear regression "
   ]
  },
  {
   "cell_type": "markdown",
   "metadata": {},
   "source": [
    "a good score was obtained , and we will now predict the test data set and check for the MSE (Mean Square Error)"
   ]
  },
  {
   "cell_type": "code",
   "execution_count": 85,
   "metadata": {},
   "outputs": [
    {
     "data": {
      "text/plain": [
       "array([[1.00000000e+00, 3.78000000e+00, 1.42884000e+01, 5.40101520e+01],\n",
       "       [1.00000000e+00, 2.46000000e+00, 6.05160000e+00, 1.48869360e+01],\n",
       "       [1.00000000e+00, 3.70000000e+00, 1.36900000e+01, 5.06530000e+01],\n",
       "       [1.00000000e+00, 4.26000000e+00, 1.81476000e+01, 7.73087760e+01],\n",
       "       [1.00000000e+00, 2.12000000e+00, 4.49440000e+00, 9.52812800e+00],\n",
       "       [1.00000000e+00, 2.54000000e+00, 6.45160000e+00, 1.63870640e+01],\n",
       "       [1.00000000e+00, 3.52000000e+00, 1.23904000e+01, 4.36142080e+01],\n",
       "       [1.00000000e+00, 1.46000000e+00, 2.13160000e+00, 3.11213600e+00],\n",
       "       [1.00000000e+00, 5.50000000e+00, 3.02500000e+01, 1.66375000e+02],\n",
       "       [1.00000000e+00, 4.84000000e+00, 2.34256000e+01, 1.13379904e+02],\n",
       "       [1.00000000e+00, 5.32000000e+00, 2.83024000e+01, 1.50568768e+02],\n",
       "       [1.00000000e+00, 2.94000000e+00, 8.64360000e+00, 2.54121840e+01],\n",
       "       [1.00000000e+00, 5.98000000e+00, 3.57604000e+01, 2.13847192e+02],\n",
       "       [1.00000000e+00, 1.16000000e+00, 1.34560000e+00, 1.56089600e+00],\n",
       "       [1.00000000e+00, 2.44000000e+00, 5.95360000e+00, 1.45267840e+01],\n",
       "       [1.00000000e+00, 1.56000000e+00, 2.43360000e+00, 3.79641600e+00],\n",
       "       [1.00000000e+00, 2.20000000e-01, 4.84000000e-02, 1.06480000e-02],\n",
       "       [1.00000000e+00, 3.34000000e+00, 1.11556000e+01, 3.72597040e+01],\n",
       "       [1.00000000e+00, 4.40000000e+00, 1.93600000e+01, 8.51840000e+01],\n",
       "       [1.00000000e+00, 5.80000000e-01, 3.36400000e-01, 1.95112000e-01],\n",
       "       [1.00000000e+00, 5.40000000e-01, 2.91600000e-01, 1.57464000e-01],\n",
       "       [1.00000000e+00, 2.20000000e+00, 4.84000000e+00, 1.06480000e+01],\n",
       "       [1.00000000e+00, 5.02000000e+00, 2.52004000e+01, 1.26506008e+02],\n",
       "       [1.00000000e+00, 2.40000000e-01, 5.76000000e-02, 1.38240000e-02],\n",
       "       [1.00000000e+00, 2.10000000e+00, 4.41000000e+00, 9.26100000e+00],\n",
       "       [1.00000000e+00, 3.60000000e-01, 1.29600000e-01, 4.66560000e-02],\n",
       "       [1.00000000e+00, 5.94000000e+00, 3.52836000e+01, 2.09584584e+02],\n",
       "       [1.00000000e+00, 1.80000000e+00, 3.24000000e+00, 5.83200000e+00],\n",
       "       [1.00000000e+00, 5.86000000e+00, 3.43396000e+01, 2.01230056e+02],\n",
       "       [1.00000000e+00, 3.68000000e+00, 1.35424000e+01, 4.98360320e+01],\n",
       "       [1.00000000e+00, 2.78000000e+00, 7.72840000e+00, 2.14849520e+01],\n",
       "       [1.00000000e+00, 4.96000000e+00, 2.46016000e+01, 1.22023936e+02],\n",
       "       [1.00000000e+00, 4.58000000e+00, 2.09764000e+01, 9.60719120e+01],\n",
       "       [1.00000000e+00, 1.18000000e+00, 1.39240000e+00, 1.64303200e+00],\n",
       "       [1.00000000e+00, 1.02000000e+00, 1.04040000e+00, 1.06120800e+00],\n",
       "       [1.00000000e+00, 1.76000000e+00, 3.09760000e+00, 5.45177600e+00],\n",
       "       [1.00000000e+00, 1.90000000e+00, 3.61000000e+00, 6.85900000e+00],\n",
       "       [1.00000000e+00, 3.28000000e+00, 1.07584000e+01, 3.52875520e+01],\n",
       "       [1.00000000e+00, 1.60000000e+00, 2.56000000e+00, 4.09600000e+00],\n",
       "       [1.00000000e+00, 4.34000000e+00, 1.88356000e+01, 8.17465040e+01],\n",
       "       [1.00000000e+00, 4.42000000e+00, 1.95364000e+01, 8.63508880e+01],\n",
       "       [1.00000000e+00, 4.56000000e+00, 2.07936000e+01, 9.48188160e+01],\n",
       "       [1.00000000e+00, 3.82000000e+00, 1.45924000e+01, 5.57429680e+01],\n",
       "       [1.00000000e+00, 8.00000000e-02, 6.40000000e-03, 5.12000000e-04],\n",
       "       [1.00000000e+00, 1.40000000e+00, 1.96000000e+00, 2.74400000e+00],\n",
       "       [1.00000000e+00, 4.44000000e+00, 1.97136000e+01, 8.75283840e+01],\n",
       "       [1.00000000e+00, 4.98000000e+00, 2.48004000e+01, 1.23505992e+02],\n",
       "       [1.00000000e+00, 3.22000000e+00, 1.03684000e+01, 3.33862480e+01],\n",
       "       [1.00000000e+00, 3.20000000e-01, 1.02400000e-01, 3.27680000e-02],\n",
       "       [1.00000000e+00, 4.16000000e+00, 1.73056000e+01, 7.19912960e+01],\n",
       "       [1.00000000e+00, 0.00000000e+00, 0.00000000e+00, 0.00000000e+00],\n",
       "       [1.00000000e+00, 5.68000000e+00, 3.22624000e+01, 1.83250432e+02],\n",
       "       [1.00000000e+00, 5.70000000e+00, 3.24900000e+01, 1.85193000e+02],\n",
       "       [1.00000000e+00, 3.50000000e+00, 1.22500000e+01, 4.28750000e+01],\n",
       "       [1.00000000e+00, 5.76000000e+00, 3.31776000e+01, 1.91102976e+02],\n",
       "       [1.00000000e+00, 2.38000000e+00, 5.66440000e+00, 1.34812720e+01],\n",
       "       [1.00000000e+00, 1.24000000e+00, 1.53760000e+00, 1.90662400e+00],\n",
       "       [1.00000000e+00, 3.60000000e+00, 1.29600000e+01, 4.66560000e+01],\n",
       "       [1.00000000e+00, 4.28000000e+00, 1.83184000e+01, 7.84027520e+01],\n",
       "       [1.00000000e+00, 3.86000000e+00, 1.48996000e+01, 5.75124560e+01]])"
      ]
     },
     "execution_count": 85,
     "metadata": {},
     "output_type": "execute_result"
    }
   ],
   "source": [
    "x_poly_test=poly_model.transform(x_test)\n",
    "x_poly_test"
   ]
  },
  {
   "cell_type": "code",
   "execution_count": 86,
   "metadata": {},
   "outputs": [
    {
     "data": {
      "text/plain": [
       "array([[0.99986718],\n",
       "       [1.02165124],\n",
       "       [1.00415758],\n",
       "       [0.97567461],\n",
       "       [0.99267399],\n",
       "       [1.02558382],\n",
       "       [1.01339379],\n",
       "       [0.86560272],\n",
       "       [1.00162852],\n",
       "       [0.96388968],\n",
       "       [0.98411944],\n",
       "       [1.03188064],\n",
       "       [1.08194466],\n",
       "       [0.76951227],\n",
       "       [1.02050903],\n",
       "       [0.8918648 ],\n",
       "       [0.26936401],\n",
       "       [1.02148679],\n",
       "       [0.97032417],\n",
       "       [0.50021459],\n",
       "       [0.47713142],\n",
       "       [1.00141878],\n",
       "       [0.9674796 ],\n",
       "       [0.28359318],\n",
       "       [0.99028825],\n",
       "       [0.3654258 ],\n",
       "       [1.07316712],\n",
       "       [0.94416291],\n",
       "       [1.05681761],\n",
       "       [1.00521869],\n",
       "       [1.03179136],\n",
       "       [0.96580154],\n",
       "       [0.96549105],\n",
       "       [0.77676804],\n",
       "       [0.71512738],\n",
       "       [0.936451  ],\n",
       "       [0.96177934],\n",
       "       [1.02381044],\n",
       "       [0.90161098],\n",
       "       [0.97246957],\n",
       "       [0.96966334],\n",
       "       [0.96589535],\n",
       "       [0.99770777],\n",
       "       [0.16491234],\n",
       "       [0.84850684],\n",
       "       [0.96903123],\n",
       "       [0.96630518],\n",
       "       [1.02590423],\n",
       "       [0.33881664],\n",
       "       [0.98014889],\n",
       "       [0.1013331 ],\n",
       "       [1.02562986],\n",
       "       [1.02872759],\n",
       "       [1.01436216],\n",
       "       [1.03856261],\n",
       "       [1.01668541],\n",
       "       [0.79778606],\n",
       "       [1.00938868],\n",
       "       [0.97483929],\n",
       "       [0.99554903]])"
      ]
     },
     "execution_count": 86,
     "metadata": {},
     "output_type": "execute_result"
    }
   ],
   "source": [
    "y2_pred=model_2.predict(x_poly_test)\n",
    "y2_pred"
   ]
  },
  {
   "cell_type": "code",
   "execution_count": 87,
   "metadata": {},
   "outputs": [
    {
     "data": {
      "text/plain": [
       "0.0013579603329429088"
      ]
     },
     "execution_count": 87,
     "metadata": {},
     "output_type": "execute_result"
    }
   ],
   "source": [
    "mean_squared_error(y_test,y2_pred)"
   ]
  },
  {
   "cell_type": "markdown",
   "metadata": {},
   "source": [
    "We can see the MSE was found be vey low and also we can comapre this value to the last value we achived earlier i.e 0.03 "
   ]
  },
  {
   "cell_type": "markdown",
   "metadata": {},
   "source": [
    "now lets plot the graph and see wheather the patterns are tracable or not"
   ]
  },
  {
   "cell_type": "code",
   "execution_count": 96,
   "metadata": {},
   "outputs": [
    {
     "data": {
      "text/plain": [
       "array([[ 0.        ,  0.81278319, -0.22712003,  0.01983693]])"
      ]
     },
     "execution_count": 96,
     "metadata": {},
     "output_type": "execute_result"
    }
   ],
   "source": [
    "model_2.coef_"
   ]
  },
  {
   "cell_type": "code",
   "execution_count": 98,
   "metadata": {},
   "outputs": [],
   "source": [
    "m1=0\n",
    "m2=0.81278319\n",
    "m3=-0.22712003\n",
    "m4=0.01983693"
   ]
  },
  {
   "cell_type": "code",
   "execution_count": 97,
   "metadata": {},
   "outputs": [
    {
     "data": {
      "text/plain": [
       "array([0.1013331])"
      ]
     },
     "execution_count": 97,
     "metadata": {},
     "output_type": "execute_result"
    }
   ],
   "source": [
    "model_2.intercept_"
   ]
  },
  {
   "cell_type": "code",
   "execution_count": 100,
   "metadata": {},
   "outputs": [],
   "source": [
    "c2=0.1013331"
   ]
  },
  {
   "cell_type": "code",
   "execution_count": 101,
   "metadata": {},
   "outputs": [
    {
     "data": {
      "text/plain": [
       "[0.9998673260613598,\n",
       " 1.02165128119848,\n",
       " 1.0041577075899997,\n",
       " 0.97567481086968,\n",
       " 0.99267400813504,\n",
       " 1.02558385852552,\n",
       " 1.0133939001894396,\n",
       " 0.8656027254344799,\n",
       " 1.001628966249999,\n",
       " 0.9638899838867203,\n",
       " 0.9841198447302391,\n",
       " 1.0318807024471197,\n",
       " 1.0819452337885587,\n",
       " 0.7695122727212799,\n",
       " 1.0205090703251198,\n",
       " 0.8918648098348799,\n",
       " 0.26936401597863996,\n",
       " 1.0214868880007202,\n",
       " 0.9703244003199998,\n",
       " 0.5002145951941599,\n",
       " 0.47713142419752,\n",
       " 1.00141880344,\n",
       " 0.9674799350634398,\n",
       " 0.28359317759231994,\n",
       " 0.99028827543,\n",
       " 0.36542580431808,\n",
       " 1.0731676799791192,\n",
       " 0.9441629205600001,\n",
       " 1.0568181459800805,\n",
       " 1.0052188231897599,\n",
       " 1.0317914172253602,\n",
       " 0.9658018691084804,\n",
       " 0.9654913062181598,\n",
       " 0.77676804519976,\n",
       " 0.7151273833994399,\n",
       " 0.9364510083596799,\n",
       " 0.9617793555699997,\n",
       " 1.0238105313433603,\n",
       " 0.90161099248,\n",
       " 0.9724697851247199,\n",
       " 0.9696635664018389,\n",
       " 0.9658956062668795,\n",
       " 0.9977079142362397,\n",
       " 0.16491234351616,\n",
       " 0.8485068431199999,\n",
       " 0.9690314666131192,\n",
       " 0.9663055120725594,\n",
       " 1.02590431728664,\n",
       " 0.33881664625024,\n",
       " 0.9801490785932798,\n",
       " 0.1013331,\n",
       " 1.0256303553817594,\n",
       " 1.028728085789999,\n",
       " 1.01436227125,\n",
       " 1.0385631247756792,\n",
       " 1.01668544324296,\n",
       " 0.79778606429632,\n",
       " 1.00938880128,\n",
       " 0.9748394988793603,\n",
       " 0.9955491782120798]"
      ]
     },
     "execution_count": 101,
     "metadata": {},
     "output_type": "execute_result"
    }
   ],
   "source": [
    "z2=[]\n",
    "for i in x_poly_test:\n",
    "    z2.append((i[0]*m1)+(i[1]*m2)+(i[2]*m3)+(i[3]*m4)+c2)\n",
    "z2"
   ]
  },
  {
   "cell_type": "code",
   "execution_count": 106,
   "metadata": {},
   "outputs": [
    {
     "data": {
      "image/png": "[encoded data removed]",
      "text/plain": [
       "<Figure size 432x288 with 1 Axes>"
      ]
     },
     "metadata": {
      "needs_background": "light"
     },
     "output_type": "display_data"
    }
   ],
   "source": [
    "plt.scatter(x_train,y_train)\n",
    "plt.scatter(x_test,z2,color='r')\n",
    "plt.show()"
   ]
  },
  {
   "cell_type": "markdown",
   "metadata": {},
   "source": [
    "As we can see that the model is little bit over fitting due to higher degree (3), but its fine for this dataset \n",
    "if we want to reduce the overfitting we can reduce the degree to 2 which will give the more accuracy for this model.\n",
    "\n",
    "Hence for this model the degree should be 2 to identify the pattern and also to get more accuracy score and less MSE."
   ]
  },
  {
   "cell_type": "code",
   "execution_count": null,
   "metadata": {},
   "outputs": [],
   "source": []
  }
 ],
 "metadata": {
  "kernelspec": {
   "display_name": "Python 3",
   "language": "python",
   "name": "python3"
  },
  "language_info": {
   "codemirror_mode": {
    "name": "ipython",
    "version": 3
   },
   "file_extension": ".py",
   "mimetype": "text/x-python",
   "name": "python",
   "nbconvert_exporter": "python",
   "pygments_lexer": "ipython3",
   "version": "3.8.5"
  }
 },
 "nbformat": 4,
 "nbformat_minor": 4
}
